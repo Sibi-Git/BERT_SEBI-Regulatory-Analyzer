{
 "cells": [
  {
   "cell_type": "code",
   "execution_count": 3,
   "metadata": {},
   "outputs": [],
   "source": [
    "import json \n",
    "data = json.load(open('insid_dump.json'))"
   ]
  },
  {
   "cell_type": "code",
   "execution_count": null,
   "metadata": {},
   "outputs": [],
   "source": [
    "cleanedUpEnts = []\n",
    "for ent in data['3']['ents']:\n",
    "    if ent not in cleanedUpEnts:\n",
    "        print(ent)\n",
    "        bigB = ent\n",
    "        marked = False\n",
    "        for maybeEnt in data['3']['nounChunks']:\n",
    "            print(maybeEnt)\n",
    "            if ent in maybeEnt:\n",
    "                if bigB in maybeEnt:\n",
    "                    if len(maybeEnt.split()) - len(ent.split()) < 5:\n",
    "                        if len(maybeEnt.split()) > len(bigB.split()):\n",
    "                            bigB = maybeEnt\n",
    "                            print(bigB)\n",
    "                            input()\n",
    "                            marked = True\n",
    "                \n",
    "        if marked:\n",
    "            cleanedUpEnts.append(bigB)"
   ]
  },
  {
   "cell_type": "code",
   "execution_count": 68,
   "metadata": {},
   "outputs": [],
   "source": [
    "visited = []\n",
    "def mergeEntsFromNounChunks(ent, nounChunks, startPos):\n",
    "#     print(ent,nounChunks[startPos])\n",
    "    visited.append([ent,startPos])\n",
    "    curCount = startPos\n",
    "    bigB = ent\n",
    "    marked = False\n",
    "    possibleAns = []\n",
    "    for maybeEnt in nounChunks[startPos:]:\n",
    "        if ent in maybeEnt:\n",
    "            if bigB in maybeEnt:\n",
    "                if len(maybeEnt.split()) - len(ent.split()) < 5:\n",
    "                        if len(maybeEnt.split()) > len(bigB.split()):\n",
    "                            bigB = maybeEnt\n",
    "                            marked = True\n",
    "            else:\n",
    "#                 print(\"started\", ent, curCount)\n",
    "                if( [ent,curCount] not in visited):\n",
    "                    possibleAns = mergeEntsFromNounChunks(ent,nounChunks,curCount)\n",
    "        curCount +=1\n",
    "        \n",
    "    if marked:\n",
    "        possibleAns.append(bigB)\n",
    "#     print(possibleAns)\n",
    "    return possibleAns\n",
    "                            \n",
    "                \n",
    "    "
   ]
  },
  {
   "cell_type": "code",
   "execution_count": 76,
   "metadata": {},
   "outputs": [
    {
     "name": "stdout",
     "output_type": "stream",
     "text": [
      "director\n",
      "directors\n",
      "key managerial personnel\n",
      "company\n",
      "Securities and Exchange Board of India\n",
      "officer\n"
     ]
    },
    {
     "data": {
      "text/plain": [
       "['any senior officer',\n",
       " 'a self-regulatory organization',\n",
       " 'company',\n",
       " '(v)changes in key managerial personnel',\n",
       " 'an unlisted company',\n",
       " 'a member',\n",
       " 'officer',\n",
       " 'insider trading',\n",
       " 'a company or its securities',\n",
       " 'an employee or director thereof',\n",
       " '(iv)mergers, de-mergers',\n",
       " 'directors',\n",
       " 'the number “2009” by Securities and Exchange Board of India',\n",
       " 'the Companies Act, 2013',\n",
       " 'Securities and Exchange Board of India',\n",
       " 'the Securities and Exchange Board of India',\n",
       " 'director',\n",
       " 'key managerial personnel',\n",
       " 'the head of an organization',\n",
       " 'the board of directors or an employee',\n",
       " 'the company and its officers']"
      ]
     },
     "execution_count": 76,
     "metadata": {},
     "output_type": "execute_result"
    }
   ],
   "source": [
    "cleanEnts = set()\n",
    "for i in list(set(data['2']['ents'])):\n",
    "    nounChunks = data['2']['nounChunks']\n",
    "#     print(i)\n",
    "    visited = []\n",
    "    if i in nounChunks:\n",
    "        print(i)\n",
    "        cleanEnts.add(i)\n",
    "        \n",
    "    \n",
    "    for ent in (mergeEntsFromNounChunks(i,nounChunks,0)):\n",
    "        cleanEnts.add(ent)\n",
    "list(cleanEnts)\n"
   ]
  },
  {
   "cell_type": "code",
   "execution_count": 51,
   "metadata": {},
   "outputs": [
    {
     "ename": "NameError",
     "evalue": "name 'ents' is not defined",
     "output_type": "error",
     "traceback": [
      "\u001b[0;31m------------------------------------\u001b[0m",
      "\u001b[0;31mNameError\u001b[0mTraceback (most recent call last)",
      "\u001b[0;32m<ipython-input-51-ca0d99dc5488>\u001b[0m in \u001b[0;36m<module>\u001b[0;34m\u001b[0m\n\u001b[0;32m----> 1\u001b[0;31m \u001b[0ments\u001b[0m\u001b[0;34m\u001b[0m\u001b[0;34m\u001b[0m\u001b[0m\n\u001b[0m",
      "\u001b[0;31mNameError\u001b[0m: name 'ents' is not defined"
     ]
    }
   ],
   "source": []
  },
  {
   "cell_type": "code",
   "execution_count": null,
   "metadata": {},
   "outputs": [],
   "source": []
  }
 ],
 "metadata": {
  "kernelspec": {
   "display_name": "Python 3",
   "language": "python",
   "name": "python3"
  },
  "language_info": {
   "codemirror_mode": {
    "name": "ipython",
    "version": 3
   },
   "file_extension": ".py",
   "mimetype": "text/x-python",
   "name": "python",
   "nbconvert_exporter": "python",
   "pygments_lexer": "ipython3",
   "version": "3.7.3"
  }
 },
 "nbformat": 4,
 "nbformat_minor": 4
}
